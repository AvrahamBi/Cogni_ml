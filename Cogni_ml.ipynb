{
  "cells": [
    {
      "cell_type": "markdown",
      "metadata": {
        "id": "73nWCr6uUqgf"
      },
      "source": [
        "#Clock recognition train"
      ]
    },
    {
      "cell_type": "markdown",
      "metadata": {
        "id": "8ayOWp8kn-X4"
      },
      "source": [
        "Model based on [Colab Notebook](https://colab.research.google.com/drive/1_-zy0nGWoSBUmJOD-x2_T2KTzGlqvikk?usp=sharing#scrollTo=n8InHz5NBFrV).\n",
        "This model based on a Google model which powered the site [Quick, Draw!](https://quickdraw.withgoogle.com//).\n",
        "\n",
        "The model modified to our needs to predict a clock rank in range 0 - 1."
      ]
    },
    {
      "cell_type": "code",
      "execution_count": null,
      "metadata": {
        "colab": {
          "base_uri": "https://localhost:8080/"
        },
        "id": "Sqv_UyarU0r0",
        "outputId": "051db2ac-e749-4298-fc56-d6526f10e12c"
      },
      "outputs": [
        {
          "name": "stdout",
          "output_type": "stream",
          "text": [
            "--2022-05-23 12:03:07--  https://raw.githubusercontent.com/AvrahamBi/Cogni-ml-config/master/mini_classes.txt\n",
            "Resolving raw.githubusercontent.com (raw.githubusercontent.com)... 185.199.108.133, 185.199.109.133, 185.199.110.133, ...\n",
            "Connecting to raw.githubusercontent.com (raw.githubusercontent.com)|185.199.108.133|:443... connected.\n",
            "HTTP request sent, awaiting response... 200 OK\n",
            "Length: 673 [text/plain]\n",
            "Saving to: ‘mini_classes.txt.1’\n",
            "\n",
            "\rmini_classes.txt.1    0%[                    ]       0  --.-KB/s               \rmini_classes.txt.1  100%[===================>]     673  --.-KB/s    in 0s      \n",
            "\n",
            "2022-05-23 12:03:07 (34.2 MB/s) - ‘mini_classes.txt.1’ saved [673/673]\n",
            "\n"
          ]
        }
      ],
      "source": [
        "!wget 'https://raw.githubusercontent.com/AvrahamBi/Cogni-ml-config/master/mini_classes.txt'"
      ]
    },
    {
      "cell_type": "code",
      "execution_count": null,
      "metadata": {
        "id": "c65IQqLEVijg"
      },
      "outputs": [],
      "source": [
        "f = open(\"mini_classes.txt\",\"r\")\n",
        "# And for reading use\n",
        "classes = f.readlines()\n",
        "f.close()"
      ]
    },
    {
      "cell_type": "code",
      "execution_count": null,
      "metadata": {
        "id": "tMzSxxHCVlQw"
      },
      "outputs": [],
      "source": [
        "classes = [c.replace('\\n','').replace(' ','_') for c in classes]"
      ]
    },
    {
      "cell_type": "code",
      "execution_count": null,
      "metadata": {
        "colab": {
          "base_uri": "https://localhost:8080/"
        },
        "id": "ZOoUFimhVnEb",
        "outputId": "f3cb4949-24e5-4c99-8ebf-33ec5e140d95"
      },
      "outputs": [
        {
          "name": "stdout",
          "output_type": "stream",
          "text": [
            "mkdir: cannot create directory ‘data’: File exists\n"
          ]
        }
      ],
      "source": [
        "!mkdir data"
      ]
    },
    {
      "cell_type": "code",
      "execution_count": null,
      "metadata": {
        "id": "w9_ikWmyVsfv"
      },
      "outputs": [],
      "source": [
        "import urllib.request\n",
        "def download():\n",
        "  \n",
        "  base = 'https://storage.googleapis.com/quickdraw_dataset/full/numpy_bitmap/'\n",
        "  for c in classes:\n",
        "    cls_url = c.replace('_', '%20')\n",
        "    path = base+cls_url+'.npy'\n",
        "    print(path)\n",
        "    urllib.request.urlretrieve(path, 'data/'+c+'.npy')"
      ]
    },
    {
      "cell_type": "code",
      "execution_count": null,
      "metadata": {
        "colab": {
          "base_uri": "https://localhost:8080/"
        },
        "id": "nsEJw_7nVtM6",
        "outputId": "42ee44a8-2a2b-4b23-a15d-7925b9776db5"
      },
      "outputs": [
        {
          "name": "stdout",
          "output_type": "stream",
          "text": [
            "https://storage.googleapis.com/quickdraw_dataset/full/numpy_bitmap/drums.npy\n",
            "https://storage.googleapis.com/quickdraw_dataset/full/numpy_bitmap/sun.npy\n",
            "https://storage.googleapis.com/quickdraw_dataset/full/numpy_bitmap/laptop.npy\n",
            "https://storage.googleapis.com/quickdraw_dataset/full/numpy_bitmap/anvil.npy\n",
            "https://storage.googleapis.com/quickdraw_dataset/full/numpy_bitmap/baseball%20bat.npy\n",
            "https://storage.googleapis.com/quickdraw_dataset/full/numpy_bitmap/ladder.npy\n",
            "https://storage.googleapis.com/quickdraw_dataset/full/numpy_bitmap/eyeglasses.npy\n",
            "https://storage.googleapis.com/quickdraw_dataset/full/numpy_bitmap/grapes.npy\n",
            "https://storage.googleapis.com/quickdraw_dataset/full/numpy_bitmap/book.npy\n",
            "https://storage.googleapis.com/quickdraw_dataset/full/numpy_bitmap/dumbbell.npy\n",
            "https://storage.googleapis.com/quickdraw_dataset/full/numpy_bitmap/traffic%20light.npy\n",
            "https://storage.googleapis.com/quickdraw_dataset/full/numpy_bitmap/wristwatch.npy\n",
            "https://storage.googleapis.com/quickdraw_dataset/full/numpy_bitmap/shovel.npy\n",
            "https://storage.googleapis.com/quickdraw_dataset/full/numpy_bitmap/bread.npy\n",
            "https://storage.googleapis.com/quickdraw_dataset/full/numpy_bitmap/table.npy\n",
            "https://storage.googleapis.com/quickdraw_dataset/full/numpy_bitmap/tennis%20racquet.npy\n",
            "https://storage.googleapis.com/quickdraw_dataset/full/numpy_bitmap/cloud.npy\n",
            "https://storage.googleapis.com/quickdraw_dataset/full/numpy_bitmap/chair.npy\n",
            "https://storage.googleapis.com/quickdraw_dataset/full/numpy_bitmap/headphones.npy\n",
            "https://storage.googleapis.com/quickdraw_dataset/full/numpy_bitmap/face.npy\n",
            "https://storage.googleapis.com/quickdraw_dataset/full/numpy_bitmap/eye.npy\n",
            "https://storage.googleapis.com/quickdraw_dataset/full/numpy_bitmap/airplane.npy\n",
            "https://storage.googleapis.com/quickdraw_dataset/full/numpy_bitmap/snake.npy\n",
            "https://storage.googleapis.com/quickdraw_dataset/full/numpy_bitmap/lollipop.npy\n",
            "https://storage.googleapis.com/quickdraw_dataset/full/numpy_bitmap/power%20outlet.npy\n",
            "https://storage.googleapis.com/quickdraw_dataset/full/numpy_bitmap/pants.npy\n",
            "https://storage.googleapis.com/quickdraw_dataset/full/numpy_bitmap/mushroom.npy\n",
            "https://storage.googleapis.com/quickdraw_dataset/full/numpy_bitmap/star.npy\n",
            "https://storage.googleapis.com/quickdraw_dataset/full/numpy_bitmap/sword.npy\n",
            "https://storage.googleapis.com/quickdraw_dataset/full/numpy_bitmap/clock.npy\n",
            "https://storage.googleapis.com/quickdraw_dataset/full/numpy_bitmap/hot%20dog.npy\n",
            "https://storage.googleapis.com/quickdraw_dataset/full/numpy_bitmap/syringe.npy\n",
            "https://storage.googleapis.com/quickdraw_dataset/full/numpy_bitmap/mountain.npy\n",
            "https://storage.googleapis.com/quickdraw_dataset/full/numpy_bitmap/apple.npy\n",
            "https://storage.googleapis.com/quickdraw_dataset/full/numpy_bitmap/bed.npy\n",
            "https://storage.googleapis.com/quickdraw_dataset/full/numpy_bitmap/shorts.npy\n",
            "https://storage.googleapis.com/quickdraw_dataset/full/numpy_bitmap/broom.npy\n",
            "https://storage.googleapis.com/quickdraw_dataset/full/numpy_bitmap/diving%20board.npy\n",
            "https://storage.googleapis.com/quickdraw_dataset/full/numpy_bitmap/flower.npy\n",
            "https://storage.googleapis.com/quickdraw_dataset/full/numpy_bitmap/spider.npy\n",
            "https://storage.googleapis.com/quickdraw_dataset/full/numpy_bitmap/cell%20phone.npy\n",
            "https://storage.googleapis.com/quickdraw_dataset/full/numpy_bitmap/car.npy\n",
            "https://storage.googleapis.com/quickdraw_dataset/full/numpy_bitmap/camera.npy\n",
            "https://storage.googleapis.com/quickdraw_dataset/full/numpy_bitmap/tree.npy\n",
            "https://storage.googleapis.com/quickdraw_dataset/full/numpy_bitmap/square.npy\n",
            "https://storage.googleapis.com/quickdraw_dataset/full/numpy_bitmap/radio.npy\n",
            "https://storage.googleapis.com/quickdraw_dataset/full/numpy_bitmap/hat.npy\n",
            "https://storage.googleapis.com/quickdraw_dataset/full/numpy_bitmap/axe.npy\n",
            "https://storage.googleapis.com/quickdraw_dataset/full/numpy_bitmap/door.npy\n",
            "https://storage.googleapis.com/quickdraw_dataset/full/numpy_bitmap/tent.npy\n",
            "https://storage.googleapis.com/quickdraw_dataset/full/numpy_bitmap/umbrella.npy\n",
            "https://storage.googleapis.com/quickdraw_dataset/full/numpy_bitmap/line.npy\n",
            "https://storage.googleapis.com/quickdraw_dataset/full/numpy_bitmap/cup.npy\n",
            "https://storage.googleapis.com/quickdraw_dataset/full/numpy_bitmap/fan.npy\n",
            "https://storage.googleapis.com/quickdraw_dataset/full/numpy_bitmap/triangle.npy\n",
            "https://storage.googleapis.com/quickdraw_dataset/full/numpy_bitmap/pillow.npy\n",
            "https://storage.googleapis.com/quickdraw_dataset/full/numpy_bitmap/scissors.npy\n",
            "https://storage.googleapis.com/quickdraw_dataset/full/numpy_bitmap/t-shirt.npy\n",
            "https://storage.googleapis.com/quickdraw_dataset/full/numpy_bitmap/tooth.npy\n",
            "https://storage.googleapis.com/quickdraw_dataset/full/numpy_bitmap/alarm%20clock.npy\n",
            "https://storage.googleapis.com/quickdraw_dataset/full/numpy_bitmap/paper%20clip.npy\n",
            "https://storage.googleapis.com/quickdraw_dataset/full/numpy_bitmap/spoon.npy\n",
            "https://storage.googleapis.com/quickdraw_dataset/full/numpy_bitmap/microphone.npy\n",
            "https://storage.googleapis.com/quickdraw_dataset/full/numpy_bitmap/candle.npy\n",
            "https://storage.googleapis.com/quickdraw_dataset/full/numpy_bitmap/pencil.npy\n",
            "https://storage.googleapis.com/quickdraw_dataset/full/numpy_bitmap/envelope.npy\n",
            "https://storage.googleapis.com/quickdraw_dataset/full/numpy_bitmap/saw.npy\n",
            "https://storage.googleapis.com/quickdraw_dataset/full/numpy_bitmap/frying%20pan.npy\n",
            "https://storage.googleapis.com/quickdraw_dataset/full/numpy_bitmap/screwdriver.npy\n",
            "https://storage.googleapis.com/quickdraw_dataset/full/numpy_bitmap/bridge.npy\n",
            "https://storage.googleapis.com/quickdraw_dataset/full/numpy_bitmap/light%20bulb.npy\n",
            "https://storage.googleapis.com/quickdraw_dataset/full/numpy_bitmap/ceiling%20fan.npy\n",
            "https://storage.googleapis.com/quickdraw_dataset/full/numpy_bitmap/key.npy\n",
            "https://storage.googleapis.com/quickdraw_dataset/full/numpy_bitmap/bird.npy\n",
            "https://storage.googleapis.com/quickdraw_dataset/full/numpy_bitmap/beard.npy\n",
            "https://storage.googleapis.com/quickdraw_dataset/full/numpy_bitmap/coffee%20cup.npy\n",
            "https://storage.googleapis.com/quickdraw_dataset/full/numpy_bitmap/butterfly.npy\n",
            "https://storage.googleapis.com/quickdraw_dataset/full/numpy_bitmap/bench.npy\n",
            "https://storage.googleapis.com/quickdraw_dataset/full/numpy_bitmap/rifle.npy\n",
            "https://storage.googleapis.com/quickdraw_dataset/full/numpy_bitmap/cat.npy\n",
            "https://storage.googleapis.com/quickdraw_dataset/full/numpy_bitmap/sock.npy\n",
            "https://storage.googleapis.com/quickdraw_dataset/full/numpy_bitmap/ice%20cream.npy\n",
            "https://storage.googleapis.com/quickdraw_dataset/full/numpy_bitmap/moustache.npy\n",
            "https://storage.googleapis.com/quickdraw_dataset/full/numpy_bitmap/suitcase.npy\n",
            "https://storage.googleapis.com/quickdraw_dataset/full/numpy_bitmap/hammer.npy\n",
            "https://storage.googleapis.com/quickdraw_dataset/full/numpy_bitmap/rainbow.npy\n",
            "https://storage.googleapis.com/quickdraw_dataset/full/numpy_bitmap/knife.npy\n",
            "https://storage.googleapis.com/quickdraw_dataset/full/numpy_bitmap/lightning.npy\n",
            "https://storage.googleapis.com/quickdraw_dataset/full/numpy_bitmap/bicycle.npy\n"
          ]
        }
      ],
      "source": [
        "download() "
      ]
    },
    {
      "cell_type": "code",
      "execution_count": null,
      "metadata": {
        "id": "nW0AYjH2VxFD"
      },
      "outputs": [],
      "source": [
        "import os\n",
        "import glob\n",
        "import numpy as np\n",
        "from tensorflow.keras import layers\n",
        "from tensorflow import keras \n",
        "import tensorflow as tf"
      ]
    },
    {
      "cell_type": "code",
      "execution_count": null,
      "metadata": {
        "id": "Ds6-bBDGV3S9"
      },
      "outputs": [],
      "source": [
        "def load_data(root, vfold_ratio=0.2, max_items_per_class= 4000 ):\n",
        "    all_files = glob.glob(os.path.join(root, '*.npy'))\n",
        "\n",
        "    #initialize variables \n",
        "    x = np.empty([0, 784])\n",
        "    y = np.empty([0])\n",
        "    class_names = []\n",
        "\n",
        "    #load each data file \n",
        "    for idx, file in enumerate(all_files):\n",
        "        data = np.load(file)\n",
        "        data = data[0: max_items_per_class, :]\n",
        "        labels = np.full(data.shape[0], idx)\n",
        "\n",
        "        x = np.concatenate((x, data), axis=0)\n",
        "        y = np.append(y, labels)\n",
        "\n",
        "        class_name, ext = os.path.splitext(os.path.basename(file))\n",
        "        class_names.append(class_name)\n",
        "\n",
        "    data = None\n",
        "    labels = None\n",
        "    \n",
        "    #randomize the dataset \n",
        "    permutation = np.random.permutation(y.shape[0])\n",
        "    x = x[permutation, :]\n",
        "    y = y[permutation]\n",
        "\n",
        "    #separate into training and testing \n",
        "    vfold_size = int(x.shape[0]/100*(vfold_ratio*100))\n",
        "\n",
        "    x_test = x[0:vfold_size, :]\n",
        "    y_test = y[0:vfold_size]\n",
        "\n",
        "    x_train = x[vfold_size:x.shape[0], :]\n",
        "    y_train = y[vfold_size:y.shape[0]]\n",
        "    return x_train, y_train, x_test, y_test, class_names"
      ]
    },
    {
      "cell_type": "code",
      "execution_count": null,
      "metadata": {
        "id": "tBa7mIWvV3c0"
      },
      "outputs": [],
      "source": [
        "x_train, y_train, x_test, y_test, class_names = load_data('data')\n",
        "num_classes = len(class_names)\n",
        "image_size = 28"
      ]
    },
    {
      "cell_type": "code",
      "execution_count": null,
      "metadata": {
        "colab": {
          "base_uri": "https://localhost:8080/"
        },
        "id": "4hdkbW0ZV6L0",
        "outputId": "1cf191ff-4fef-47fa-b718-aa48a0ae901c"
      },
      "outputs": [
        {
          "name": "stdout",
          "output_type": "stream",
          "text": [
            "284800\n"
          ]
        }
      ],
      "source": [
        "print(len(x_train))"
      ]
    },
    {
      "cell_type": "code",
      "execution_count": null,
      "metadata": {
        "colab": {
          "base_uri": "https://localhost:8080/"
        },
        "id": "qTG796ybV6OT",
        "outputId": "52492b15-785e-4719-abf5-326b3dee9e1b"
      },
      "outputs": [
        {
          "name": "stdout",
          "output_type": "stream",
          "text": [
            "rainbow\n"
          ]
        },
        {
          "data": {
            "image/png": "[encoded data removed]",
            "text/plain": [
              "<Figure size 432x288 with 1 Axes>"
            ]
          },
          "metadata": {},
          "output_type": "display_data"
        }
      ],
      "source": [
        "import matplotlib.pyplot as plt\n",
        "from random import randint\n",
        "%matplotlib inline  \n",
        "idx = randint(0, len(x_train))\n",
        "plt.imshow(x_train[idx].reshape(28,28)) \n",
        "print(class_names[int(y_train[idx].item())])"
      ]
    },
    {
      "cell_type": "code",
      "execution_count": null,
      "metadata": {
        "id": "RIZxWcgPV6Rw"
      },
      "outputs": [],
      "source": [
        "# Reshape and normalize\n",
        "x_train = x_train.reshape(x_train.shape[0], image_size, image_size, 1).astype('float32')\n",
        "x_test = x_test.reshape(x_test.shape[0], image_size, image_size, 1).astype('float32')\n",
        "\n",
        "x_train /= 255.0\n",
        "x_test /= 255.0\n",
        "\n",
        "# Convert class vectors to class matrices\n",
        "y_train = keras.utils.to_categorical(y_train, num_classes)\n",
        "y_test = keras.utils.to_categorical(y_test, num_classes)"
      ]
    },
    {
      "cell_type": "code",
      "execution_count": null,
      "metadata": {
        "colab": {
          "base_uri": "https://localhost:8080/"
        },
        "id": "Ssd8FTRFWDMQ",
        "outputId": "69e27f43-01d5-4a4f-9d30-e798a3a5785c"
      },
      "outputs": [
        {
          "name": "stdout",
          "output_type": "stream",
          "text": [
            "Model: \"sequential\"\n",
            "_________________________________________________________________\n",
            " Layer (type)                Output Shape              Param #   \n",
            "=================================================================\n",
            " conv2d (Conv2D)             (None, 28, 28, 16)        160       \n",
            "                                                                 \n",
            " max_pooling2d (MaxPooling2D  (None, 14, 14, 16)       0         \n",
            " )                                                               \n",
            "                                                                 \n",
            " conv2d_1 (Conv2D)           (None, 14, 14, 32)        4640      \n",
            "                                                                 \n",
            " max_pooling2d_1 (MaxPooling  (None, 7, 7, 32)         0         \n",
            " 2D)                                                             \n",
            "                                                                 \n",
            " conv2d_2 (Conv2D)           (None, 7, 7, 64)          18496     \n",
            "                                                                 \n",
            " max_pooling2d_2 (MaxPooling  (None, 3, 3, 64)         0         \n",
            " 2D)                                                             \n",
            "                                                                 \n",
            " flatten (Flatten)           (None, 576)               0         \n",
            "                                                                 \n",
            " dense (Dense)               (None, 128)               73856     \n",
            "                                                                 \n",
            " dense_1 (Dense)             (None, 89)                11481     \n",
            "                                                                 \n",
            "=================================================================\n",
            "Total params: 108,633\n",
            "Trainable params: 108,633\n",
            "Non-trainable params: 0\n",
            "_________________________________________________________________\n",
            "None\n"
          ]
        }
      ],
      "source": [
        "# Define model\n",
        "model = keras.Sequential()\n",
        "model.add(layers.Convolution2D(16, (3, 3),\n",
        "                        padding='same',\n",
        "                        input_shape=x_train.shape[1:], activation='relu'))\n",
        "model.add(layers.MaxPooling2D(pool_size=(2, 2)))\n",
        "model.add(layers.Convolution2D(32, (3, 3), padding='same', activation= 'relu'))\n",
        "model.add(layers.MaxPooling2D(pool_size=(2, 2)))\n",
        "model.add(layers.Convolution2D(64, (3, 3), padding='same', activation= 'relu'))\n",
        "model.add(layers.MaxPooling2D(pool_size =(2,2)))\n",
        "model.add(layers.Flatten())\n",
        "model.add(layers.Dense(128, activation='relu'))\n",
        "model.add(layers.Dense(89, activation='softmax')) \n",
        "# Train model\n",
        "adam = tf.optimizers.Adam()\n",
        "model.compile(loss='categorical_crossentropy',\n",
        "              optimizer=adam,\n",
        "              metrics=['top_k_categorical_accuracy'])\n",
        "print(model.summary())"
      ]
    },
    {
      "cell_type": "code",
      "execution_count": null,
      "metadata": {
        "colab": {
          "background_save": true,
          "base_uri": "https://localhost:8080/"
        },
        "id": "1T15FmeTWDQ5",
        "outputId": "45eaa922-1276-4ca2-c17c-6f799d882cca"
      },
      "outputs": [
        {
          "name": "stdout",
          "output_type": "stream",
          "text": [
            "Epoch 1/5\n",
            "1125/1125 - 201s - loss: 1.9251 - top_k_categorical_accuracy: 0.7808 - val_loss: 1.3938 - val_top_k_categorical_accuracy: 0.8745 - 201s/epoch - 179ms/step\n",
            "Epoch 2/5\n",
            "1125/1125 - 203s - loss: 1.2466 - top_k_categorical_accuracy: 0.8921 - val_loss: 1.1554 - val_top_k_categorical_accuracy: 0.9030 - 203s/epoch - 180ms/step\n",
            "Epoch 3/5\n",
            "1125/1125 - 208s - loss: 1.0835 - top_k_categorical_accuracy: 0.9102 - val_loss: 1.0674 - val_top_k_categorical_accuracy: 0.9122 - 208s/epoch - 184ms/step\n",
            "Epoch 4/5\n",
            "1125/1125 - 201s - loss: 0.9948 - top_k_categorical_accuracy: 0.9195 - val_loss: 0.9914 - val_top_k_categorical_accuracy: 0.9197 - 201s/epoch - 178ms/step\n",
            "Epoch 5/5\n",
            "1125/1125 - 200s - loss: 0.9337 - top_k_categorical_accuracy: 0.9255 - val_loss: 0.9802 - val_top_k_categorical_accuracy: 0.9207 - 200s/epoch - 177ms/step\n"
          ]
        },
        {
          "data": {
            "text/plain": [
              "<keras.callbacks.History at 0x7fa5e8d9a750>"
            ]
          },
          "execution_count": null,
          "metadata": {},
          "output_type": "execute_result"
        }
      ],
      "source": [
        "model.fit(x = x_train, y = y_train, validation_split=0.1, batch_size = 256, verbose=2, epochs=5)"
      ]
    },
    {
      "cell_type": "markdown",
      "metadata": {
        "id": "SUCmF99mWwOv"
      },
      "source": [
        "# Test"
      ]
    },
    {
      "cell_type": "code",
      "execution_count": null,
      "metadata": {
        "id": "5WkhsqHcm4jI"
      },
      "outputs": [],
      "source": [
        "from PIL import Image\n",
        "import io\n",
        "import base64"
      ]
    },
    {
      "cell_type": "code",
      "execution_count": null,
      "metadata": {
        "id": "Bf9k_ZlCca8u"
      },
      "outputs": [],
      "source": [
        "def predict(img_mongo):\n",
        "  img64 = img_mongo[22:]\n",
        "  img_decode = Image.open(io.BytesIO(base64.decodebytes(bytes(img64, \"utf-8\"))))\n",
        "  resize_img = img_decode.resize(size=(28, 28))\n",
        "  # resize_img = resize_img.convert('RGB') # 1 dimension\n",
        "  # resize_img = resize_img.convert('LA') # 1 dimension\n",
        "  # resize_img = np.expand_dims(resize_img, axis=-1)\n",
        "  img_numpy = np.array(resize_img) \n",
        "  if len(img_numpy.shape) > 2 and img_numpy.shape[2] == 4:\n",
        "    #slice off the alpha channel\n",
        "    img_numpy = img_numpy[:, :, 1]\n",
        "  img_numpy = (255.0 - img_numpy) / 255.0\n",
        "  img_numpy = np.where(img_numpy>0.1,0.75,img_numpy) # here\n",
        "  img_numpy = np.where(img_numpy>0,img_numpy+0.20,0)\n",
        "  plt.imshow(img_numpy.squeeze())\n",
        "  pred = model.predict(np.expand_dims(img_numpy, axis=0))[0]\n",
        "  ind = (-pred).argsort()[:5]\n",
        "  latex = [class_names[x] for x in ind]\n",
        "  print(latex)\n",
        "  print ([pred[x] for x in ind])\n",
        "\n",
        "  clock_ind = class_names.index(\"clock\")\n",
        "  print(\"is clock \" , pred[clock_ind])\n",
        "  print(\"\")\n",
        "  return pred[clock_ind]"
      ]
    },
    {
      "cell_type": "markdown",
      "metadata": {
        "id": "eA9JC7mMueYf"
      },
      "source": [
        "# MongoDb controller"
      ]
    },
    {
      "cell_type": "code",
      "execution_count": null,
      "metadata": {
        "cellView": "code",
        "colab": {
          "base_uri": "https://localhost:8080/"
        },
        "id": "7Z9B7K5cB460",
        "outputId": "d2fb0803-5169-46b0-e9b8-bd6cbda2b05f"
      },
      "outputs": [
        {
          "name": "stdout",
          "output_type": "stream",
          "text": [
            "Requirement already satisfied: dnspython in /usr/local/lib/python3.7/dist-packages (2.2.1)\n",
            "Requirement already satisfied: pymongo[srv] in /usr/local/lib/python3.7/dist-packages (4.1.1)\n",
            "Requirement already satisfied: dnspython<3.0.0,>=1.16.0 in /usr/local/lib/python3.7/dist-packages (from pymongo[srv]) (2.2.1)\n"
          ]
        }
      ],
      "source": [
        "!pip install dnspython\n",
        "!pip3 uninstall pymongo\n",
        "!pip3 install pymongo[srv]"
      ]
    },
    {
      "cell_type": "code",
      "execution_count": null,
      "metadata": {
        "cellView": "code",
        "id": "qBvxwCslsU5G"
      },
      "outputs": [],
      "source": [
        "\n",
        "import string\n",
        "import random\n",
        "import pymongo\n",
        "import operator\n",
        "import numpy as np\n",
        "import matplotlib.pyplot as plt\n",
        "from pymongo import MongoClient\n",
        "from sklearn.feature_selection import SelectKBest, chi2\n",
        "from sklearn.preprocessing import LabelEncoder, OrdinalEncoder"
      ]
    },
    {
      "cell_type": "code",
      "execution_count": null,
      "metadata": {
        "id": "vim4UN9ju5r7"
      },
      "outputs": [],
      "source": [
        "# consts\n",
        "USER = \"admin\"\n",
        "PASS = \"admin\"\n",
        "CONNECTION_STRING = \"mongodb+srv://\" + USER + \":\" + PASS + \"@cluster0.0anzo.mongodb.net/Cogni\" #?retryWrites=true&w=majority\"\n",
        "FIELDS = [\"_id\", \"gender\", \"age\", \"sketchTime\", \"startTime\", \"count_path\", \"count_reset\", \"count_undo\"] # TBD: path, label should be generated.\n",
        "TARGET_INDEX = 8\n",
        "GENERATE_TESTS = 10"
      ]
    },
    {
      "cell_type": "code",
      "execution_count": null,
      "metadata": {
        "id": "7OWEv7hGu_hJ"
      },
      "outputs": [],
      "source": [
        "# generate random test\n",
        "def generate_test():\n",
        "    _id = ''.join(random.choice(string.ascii_letters) for i in range(8))\n",
        "    gender = random.randint(0, 1)\n",
        "    age = random.randint(8, 90)\n",
        "    sketchTime = random.randint(100, 100000)\n",
        "    startTime = random.randint(100, 100000)\n",
        "    count_path = random.randint(4, 24)\n",
        "    count_reset = random.randint(0, 3)\n",
        "    count_undo = random.randint(0, 6)\n",
        "    label = random.randint(1, 5)\n",
        "    pred = float(random.random())\n",
        "    return {'_id' : _id, 'gender' : gender, 'age' : age, 'sketchTime' : sketchTime, 'startTime' : startTime,\n",
        "            'count_path' : count_path, 'count_reset' : count_reset, 'count_undo' : count_undo, 'label' : label, 'pred' : pred}\n"
      ]
    },
    {
      "cell_type": "code",
      "execution_count": null,
      "metadata": {
        "id": "lBcYfhX0vIqv"
      },
      "outputs": [],
      "source": [
        "# get tests features from MongoDb\n",
        "def get_tests(client):\n",
        "    tests = client.tests.clock.find()\n",
        "    tests_arr = []\n",
        "    for test in tests:\n",
        "        dict = {}\n",
        "        for field in FIELDS:\n",
        "            if (field == \"_id\"):\n",
        "                dict[field] = str(test[field])\n",
        "                continue\n",
        "            dict[field] = test[field]\n",
        "        dict[\"label\"] = random.randint(1, 5)\n",
        "        # add prediction\n",
        "        dict[\"pred\"] = float(predict(test[\"img_base64\"]))\n",
        "        tests_arr.append(dict)\n",
        "    if (0 < GENERATE_TESTS):\n",
        "        for i in range(GENERATE_TESTS):\n",
        "            tests_arr.append(generate_test())\n",
        "    print(\"Tests loaded from MongoDb and\", GENERATE_TESTS, \"tests have been generated.\")\n",
        "    return tests_arr"
      ]
    },
    {
      "cell_type": "code",
      "execution_count": null,
      "metadata": {
        "id": "BAJaCNXtwkz9"
      },
      "outputs": [],
      "source": [
        "# clear dataset database\n",
        "def clear_dataset(client):\n",
        "    dataset = client.ml.dataset\n",
        "    for test in dataset.find():\n",
        "        dataset.delete_one(test)\n",
        "    print(\"MongoDb dataset has been deleted!\")"
      ]
    },
    {
      "cell_type": "code",
      "execution_count": null,
      "metadata": {
        "id": "6VGDvHMowmlV"
      },
      "outputs": [],
      "source": [
        "# load data to dataset\n",
        "def load_data(client, tests):\n",
        "    dataset = client.ml.dataset\n",
        "    for test in tests:\n",
        "        dataset.insert_one(test)\n",
        "    print(\"Dataset has been uplpaded to MongoDb.\")"
      ]
    },
    {
      "cell_type": "code",
      "execution_count": null,
      "metadata": {
        "id": "qgCUJV5dwpJd"
      },
      "outputs": [],
      "source": [
        "def get_dataset(client, target_index):\n",
        "    db = client.ml.dataset.find()\n",
        "    matrix = []\n",
        "    i = 0\n",
        "    for test in db:\n",
        "        arr = []\n",
        "        for feature in test:\n",
        "            arr.append(test[feature])\n",
        "        i += 1\n",
        "        matrix.append(arr)\n",
        "    matrix = np.array(matrix)\n",
        "    y = matrix[:,target_index]\n",
        "    # remove _id column\n",
        "    x = np.delete(matrix, obj=0, axis=1)\n",
        "    # remove target column from x\n",
        "    x = np.delete(matrix, obj=8, axis=1)\n",
        "    #\n",
        "    oe = OrdinalEncoder()\n",
        "    oe.fit(x)\n",
        "    x = oe.transform(x)\n",
        "    # encode y\n",
        "    le = LabelEncoder()\n",
        "    le.fit(y)\n",
        "    y = le.transform(y)\n",
        "    return x , y"
      ]
    },
    {
      "cell_type": "code",
      "execution_count": null,
      "metadata": {
        "id": "GX21xqSmwr-N"
      },
      "outputs": [],
      "source": [
        "def get_scores(client, target_index):\n",
        "    x, y = get_dataset(client, target_index)\n",
        "    selector = SelectKBest(score_func=chi2, k='all')\n",
        "    selector.fit(x, y)\n",
        "    scores_dict = {}\n",
        "    for i, field in zip(range(len(selector.scores_)), FIELDS[1:]):\n",
        "        scores_dict[field] = round(selector.scores_[i], 2)\n",
        "    sorted_scores_dict = {k: v for k, v in sorted(scores_dict.items(), reverse=True, key=lambda item: item[1])}\n",
        "    return scores_dict, sorted_scores_dict"
      ]
    },
    {
      "cell_type": "code",
      "execution_count": null,
      "metadata": {
        "id": "_X7eoCAcws19"
      },
      "outputs": [],
      "source": [
        "def print_scores(sorted_scores_dict):\n",
        "    print(\"\")\n",
        "    print(\"List of features and scores.\")\n",
        "    print(\"higher score means higher correlation between feature to target.\")\n",
        "    for key in sorted_scores_dict:\n",
        "        #print(key,'\\t', sorted_scores_dict[key])\n",
        "        line = '%14s %14s' % (key, sorted_scores_dict[key])\n",
        "        print(line)"
      ]
    },
    {
      "cell_type": "code",
      "execution_count": null,
      "metadata": {
        "id": "2sOHd-vVEGe_"
      },
      "outputs": [],
      "source": [
        "# show graph of features and scores to user\n",
        "def show_graph(dict):\n",
        "    # plot the scores\n",
        "    keys = []\n",
        "    scores = []\n",
        "    for key in dict:\n",
        "        keys.append(key)\n",
        "        scores.append(dict[key])\n",
        "    plt.bar(keys, scores)\n",
        "    plt.title(\"Higher means stronger correlation.\")\n",
        "    plt.xticks(rotation=270)\n",
        "    plt.show()"
      ]
    },
    {
      "cell_type": "markdown",
      "metadata": {
        "id": "cp0rkiQ4U6Ai"
      },
      "source": [
        "# main"
      ]
    },
    {
      "cell_type": "code",
      "execution_count": null,
      "metadata": {
        "id": "M_3dShaUwueg"
      },
      "outputs": [],
      "source": [
        "if __name__ == \"__main__\":\n",
        "    # connect to MongoDb client\n",
        "    client = MongoClient(CONNECTION_STRING)\n"
      ]
    },
    {
      "cell_type": "code",
      "execution_count": null,
      "metadata": {
        "colab": {
          "base_uri": "https://localhost:8080/"
        },
        "id": "nvr3ZYMpNGnM",
        "outputId": "e3f78ad2-76c5-4248-9ce7-0b17502abc8d"
      },
      "outputs": [
        {
          "name": "stdout",
          "output_type": "stream",
          "text": [
            "MongoDb dataset has been deleted!\n"
          ]
        }
      ],
      "source": [
        "    # clear MongoDb dataset\n",
        "    clear_dataset(client)"
      ]
    },
    {
      "cell_type": "code",
      "execution_count": null,
      "metadata": {
        "colab": {
          "base_uri": "https://localhost:8080/",
          "height": 1000
        },
        "id": "AQ3naIuQNNO_",
        "outputId": "1ba1f394-8ed9-42b1-b712-058ce1c92bc4"
      },
      "outputs": [
        {
          "name": "stdout",
          "output_type": "stream",
          "text": [
            "['sun', 'line', 'diving_board', 'lightning', 'light_bulb']\n",
            "[0.26075575, 0.1473727, 0.11392926, 0.06866295, 0.04450149]\n",
            "is clock  7.308571e-05\n",
            "\n",
            "['lightning', 'diving_board', 'line', 'bread', 'mushroom']\n",
            "[0.44190893, 0.07321774, 0.053915396, 0.047209043, 0.041415554]\n",
            "is clock  0.0014626632\n",
            "\n",
            "['lightning', 'syringe', 'line', 'diving_board', 'mushroom']\n",
            "[0.6663401, 0.055916242, 0.052867826, 0.019320304, 0.019073272]\n",
            "is clock  0.00040857669\n",
            "\n",
            "['line', 'lightning', 'screwdriver', 'power_outlet', 'diving_board']\n",
            "[0.19748418, 0.17584157, 0.056762744, 0.04099744, 0.039873753]\n",
            "is clock  0.0018919774\n",
            "\n",
            "['sun', 'cloud', 'bird', 'light_bulb', 'lightning']\n",
            "[0.4196708, 0.14837019, 0.09708765, 0.066971265, 0.032884445]\n",
            "is clock  0.00023162554\n",
            "\n",
            "['spoon', 'baseball_bat', 'axe', 'lightning', 'ice_cream']\n",
            "[0.37155843, 0.15802917, 0.061707117, 0.04871341, 0.04808594]\n",
            "is clock  0.00025967063\n",
            "\n",
            "['line', 'moustache', 'diving_board', 'axe', 'cloud']\n",
            "[0.26079333, 0.15054703, 0.119025655, 0.08691749, 0.02883787]\n",
            "is clock  7.5981465e-05\n",
            "\n",
            "['lightning', 'line', 'syringe', 'cloud', 'screwdriver']\n",
            "[0.19887263, 0.14046717, 0.051819883, 0.05085327, 0.050770573]\n",
            "is clock  0.002414964\n",
            "\n",
            "['lightning', 'syringe', 'line', 'screwdriver', 'grapes']\n",
            "[0.3300211, 0.08595351, 0.0813678, 0.06896641, 0.05344224]\n",
            "is clock  0.0046598194\n",
            "\n",
            "['face', 'cloud', 'power_outlet', 'apple', 'clock']\n",
            "[0.35476983, 0.29100627, 0.08757322, 0.044219512, 0.04027203]\n",
            "is clock  0.04027203\n",
            "\n",
            "['lightning', 'shovel', 'cloud', 'diving_board', 'line']\n",
            "[0.5646129, 0.08098421, 0.04405212, 0.038115103, 0.029549208]\n",
            "is clock  0.000114733935\n",
            "\n",
            "['diving_board', 'lightning', 'lollipop', 'line', 'syringe']\n",
            "[0.39820474, 0.118092485, 0.113893546, 0.047466133, 0.042719096]\n",
            "is clock  0.00016477273\n",
            "\n",
            "['light_bulb', 'bread', 'line', 'lightning', 'diving_board']\n",
            "[0.3148018, 0.14404783, 0.076259196, 0.06421109, 0.029534152]\n",
            "is clock  0.0001931494\n",
            "\n",
            "['line', 'diving_board', 'bread', 'rifle', 'candle']\n",
            "[0.33395383, 0.23370653, 0.026016278, 0.025192399, 0.021785628]\n",
            "is clock  0.0003943873\n",
            "\n",
            "['diving_board', 'line', 'bread', 'candle', 'microphone']\n",
            "[0.36720327, 0.07961157, 0.061173927, 0.055008873, 0.034439623]\n",
            "is clock  0.00025103145\n",
            "\n",
            "['line', 'diving_board', 'power_outlet', 'ceiling_fan', 'screwdriver']\n",
            "[0.16901447, 0.075990945, 0.037974566, 0.033974633, 0.03311608]\n",
            "is clock  0.0029177247\n",
            "\n",
            "['line', 'diving_board', 'bread', 'lightning', 'cloud']\n",
            "[0.34095204, 0.22559729, 0.031817585, 0.03145078, 0.028375626]\n",
            "is clock  0.00013488546\n",
            "\n",
            "['face', 'cloud', 'clock', 'flower', 'wristwatch']\n",
            "[0.34521374, 0.16405119, 0.13496724, 0.08375221, 0.056370072]\n",
            "is clock  0.13496724\n",
            "\n",
            "['line', 'light_bulb', 'lightning', 'shovel', 'spoon']\n",
            "[0.3278356, 0.17264488, 0.1256299, 0.09055079, 0.0697066]\n",
            "is clock  1.9673931e-05\n",
            "\n",
            "['moustache', 'bread', 'hat', 'power_outlet', 'cloud']\n",
            "[0.23549698, 0.09070292, 0.081487685, 0.062961556, 0.053928886]\n",
            "is clock  0.00033457275\n",
            "\n",
            "['key', 'bread', 'power_outlet', 'hat', 'sock']\n",
            "[0.14058836, 0.10115628, 0.075275406, 0.07022656, 0.053624764]\n",
            "is clock  0.0008811985\n",
            "\n",
            "['snake', 'syringe', 'eyeglasses', 'face', 'cloud']\n",
            "[0.13669841, 0.12564121, 0.122687794, 0.08268613, 0.07812646]\n",
            "is clock  0.061398663\n",
            "\n",
            "['face', 'cloud', 'clock', 'light_bulb', 'power_outlet']\n",
            "[0.46109328, 0.12415963, 0.11422351, 0.0666764, 0.051796194]\n",
            "is clock  0.11422351\n",
            "\n",
            "['face', 'power_outlet', 'eyeglasses', 'light_bulb', 'moustache']\n",
            "[0.58821684, 0.10160619, 0.037628513, 0.03760845, 0.03308437]\n",
            "is clock  0.023915783\n",
            "\n",
            "['cloud', 'flower', 'face', 'tree', 'fan']\n",
            "[0.5004797, 0.21227293, 0.14067109, 0.015930789, 0.010227957]\n",
            "is clock  0.00793945\n",
            "\n",
            "['face', 'light_bulb', 'cloud', 'clock', 'eyeglasses']\n",
            "[0.4096384, 0.12690791, 0.12641335, 0.069391, 0.04930966]\n",
            "is clock  0.069391\n",
            "\n",
            "['sun', 'face', 'flower', 'cloud', 'alarm_clock']\n",
            "[0.17718288, 0.15976092, 0.14802274, 0.12372175, 0.0626181]\n",
            "is clock  0.041637465\n",
            "\n",
            "['sun', 'eyeglasses', 'face', 'cloud', 'beard']\n",
            "[0.5556055, 0.052073944, 0.04895312, 0.04783839, 0.022702623]\n",
            "is clock  0.0020544212\n",
            "\n",
            "['lightning', 'syringe', 'screwdriver', 'microphone', 'eyeglasses']\n",
            "[0.68667066, 0.091368385, 0.06801185, 0.025256872, 0.017018529]\n",
            "is clock  9.638894e-05\n",
            "\n",
            "['diving_board', 'moustache', 'key', 'face', 'shovel']\n",
            "[0.31060687, 0.10012523, 0.060177233, 0.053070296, 0.040864106]\n",
            "is clock  0.00057585514\n",
            "\n",
            "['face', 'cloud', 'power_outlet', 'light_bulb', 'clock']\n",
            "[0.50314754, 0.099881016, 0.09512505, 0.07128941, 0.06687282]\n",
            "is clock  0.06687282\n",
            "\n",
            "['face', 'power_outlet', 'clock', 'light_bulb', 'moustache']\n",
            "[0.6509309, 0.09933678, 0.092371784, 0.033443216, 0.025871422]\n",
            "is clock  0.092371784\n",
            "\n",
            "['clock', 'face', 'fan', 'power_outlet', 'cloud']\n",
            "[0.57662183, 0.15935212, 0.060479894, 0.042396847, 0.04166291]\n",
            "is clock  0.57662183\n",
            "\n",
            "['clock', 'face', 'fan', 'power_outlet', 'cloud']\n",
            "[0.57662183, 0.15935212, 0.060479894, 0.042396847, 0.04166291]\n",
            "is clock  0.57662183\n",
            "\n",
            "['cloud', 'clock', 'face', 'fan', 'power_outlet']\n",
            "[0.32355833, 0.29730752, 0.21034534, 0.028460989, 0.025712207]\n",
            "is clock  0.29730752\n",
            "\n",
            "Tests loaded from MongoDb and 10 tests have been generated.\n"
          ]
        },
        {
          "data": {
            "image/png": "[encoded data removed]",
            "text/plain": [
              "<Figure size 432x288 with 1 Axes>"
            ]
          },
          "metadata": {},
          "output_type": "display_data"
        }
      ],
      "source": [
        "    # get tests from MongoDb, and create dataset\n",
        "    data = get_tests(client)   # tests = [{}, {}, {}]"
      ]
    },
    {
      "cell_type": "code",
      "execution_count": null,
      "metadata": {
        "colab": {
          "base_uri": "https://localhost:8080/"
        },
        "id": "zskwnxn9haki",
        "outputId": "8025a502-9f5d-40b8-8e04-bee7da9a13e6"
      },
      "outputs": [
        {
          "name": "stdout",
          "output_type": "stream",
          "text": [
            "Dataset has been uplpaded to MongoDb.\n"
          ]
        }
      ],
      "source": [
        "    # upload dataset into MongoDb\n",
        "    load_data(client, data)"
      ]
    },
    {
      "cell_type": "code",
      "execution_count": null,
      "metadata": {
        "id": "-DXQLsWVNP0x"
      },
      "outputs": [],
      "source": [
        "    # calculate scores of features\n",
        "    scores_dict, sorted_scores_dict = get_scores(client, TARGET_INDEX)"
      ]
    },
    {
      "cell_type": "code",
      "execution_count": null,
      "metadata": {
        "colab": {
          "base_uri": "https://localhost:8080/",
          "height": 504
        },
        "id": "JaIxNO2mNTU-",
        "outputId": "0de91bfa-0369-41da-f00f-043d25510295"
      },
      "outputs": [
        {
          "name": "stdout",
          "output_type": "stream",
          "text": [
            "\n",
            "List of features and scores.\n",
            "higher score means higher correlation between feature to target.\n",
            "    sketchTime          52.95\n",
            "   count_reset          36.69\n",
            "    count_path          23.45\n",
            "     startTime          23.27\n",
            "    count_undo          17.97\n",
            "        gender          13.54\n",
            "           age           0.94\n"
          ]
        },
        {
          "data": {
            "image/png": "[encoded data removed]",
            "text/plain": [
              "<Figure size 432x288 with 1 Axes>"
            ]
          },
          "metadata": {},
          "output_type": "display_data"
        }
      ],
      "source": [
        "    # show scores of features\n",
        "    print_scores(sorted_scores_dict)\n",
        "    show_graph(sorted_scores_dict)\n"
      ]
    }
  ],
  "metadata": {
    "accelerator": "GPU",
    "colab": {
      "collapsed_sections": [
        "73nWCr6uUqgf",
        "SUCmF99mWwOv",
        "eA9JC7mMueYf",
        "cp0rkiQ4U6Ai"
      ],
      "name": "Cogni-ml.ipynb",
      "provenance": []
    },
    "kernelspec": {
      "display_name": "Python 3",
      "name": "python3"
    },
    "language_info": {
      "name": "python"
    }
  },
  "nbformat": 4,
  "nbformat_minor": 0
}